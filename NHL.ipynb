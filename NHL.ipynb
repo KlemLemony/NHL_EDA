{
  "nbformat": 4,
  "nbformat_minor": 0,
  "metadata": {
    "colab": {
      "provenance": [],
      "authorship_tag": "ABX9TyM6fK9LOxxcMDuDHfKl7fz9",
      "include_colab_link": true
    },
    "kernelspec": {
      "name": "python3",
      "display_name": "Python 3"
    },
    "language_info": {
      "name": "python"
    }
  },
  "cells": [
    {
      "cell_type": "markdown",
      "metadata": {
        "id": "view-in-github",
        "colab_type": "text"
      },
      "source": [
        "<a href=\"https://colab.research.google.com/github/KlemLemony/NHL_EDA/blob/main/NHL.ipynb\" target=\"_parent\"><img src=\"https://colab.research.google.com/assets/colab-badge.svg\" alt=\"Open In Colab\"/></a>"
      ]
    },
    {
      "cell_type": "code",
      "execution_count": 1,
      "metadata": {
        "id": "RKG7vFglkjFm",
        "colab": {
          "base_uri": "https://localhost:8080/"
        },
        "outputId": "8007518f-e52c-4f86-a8ce-24c320e1fb85"
      },
      "outputs": [
        {
          "output_type": "stream",
          "name": "stdout",
          "text": [
            "Mounted at /content/gdrive\n"
          ]
        }
      ],
      "source": [
        "import pandas as pd\n",
        "from google.colab import drive\n",
        "drive.mount('/content/gdrive')"
      ]
    },
    {
      "cell_type": "code",
      "source": [
        "import numpy as np\n",
        "from scipy. stats import pearsonr\n",
        "import matplotlib.pyplot as plt"
      ],
      "metadata": {
        "id": "-qrsbF7i7g8Y"
      },
      "execution_count": 2,
      "outputs": []
    },
    {
      "cell_type": "code",
      "source": [
        "train = pd.read_csv('/content/gdrive/MyDrive/data_sets/Predict_NHL_Player_Salaries_train.csv', encoding = 'windows 1251')\n",
        "test_without_salaries = pd.read_csv('/content/gdrive/MyDrive/data_sets/Predict NHL Player Salaries_test.csv', encoding = 'windows 1251')\n",
        "test_salaries = pd.read_csv('/content/gdrive/MyDrive/data_sets/Predict NHL Player Salaries_test_salaries.csv', encoding = 'windows 1251')"
      ],
      "metadata": {
        "id": "SrhYtavUk6MT"
      },
      "execution_count": 3,
      "outputs": []
    },
    {
      "cell_type": "markdown",
      "source": [
        "Объединяю датасеты в один."
      ],
      "metadata": {
        "id": "X0BFnoQUADk8"
      }
    },
    {
      "cell_type": "code",
      "source": [
        "test = pd.concat([test_without_salaries, test_salaries], axis=1)\n",
        "columns_name = pd.DataFrame(train.columns.values.tolist(), columns=['train'])\n",
        "columns_name['test'] = test.columns.values.tolist()\n",
        "salary = pd.concat([train, test]) # вот финальный датасет, с которым я буду работать"
      ],
      "metadata": {
        "id": "6B_9bLYx9TqF"
      },
      "execution_count": 4,
      "outputs": []
    },
    {
      "cell_type": "code",
      "source": [
        "len(salary.index) #смотрим сколько всего записей в таблице"
      ],
      "metadata": {
        "id": "Lwq_bsFMj0ci",
        "colab": {
          "base_uri": "https://localhost:8080/"
        },
        "outputId": "ea1dda05-252d-4f5f-d907-ccad9aea1cf3"
      },
      "execution_count": 5,
      "outputs": [
        {
          "output_type": "execute_result",
          "data": {
            "text/plain": [
              "874"
            ]
          },
          "metadata": {},
          "execution_count": 5
        }
      ]
    },
    {
      "cell_type": "code",
      "source": [
        "[column for column in salary] # смотрим название колонок (salary.columns.values.tolist() - еще можно так посмотреть)"
      ],
      "metadata": {
        "id": "nEK4lynHR4xp",
        "colab": {
          "base_uri": "https://localhost:8080/"
        },
        "outputId": "662e82a2-e043-4bdd-f54e-4a70d5f629fe"
      },
      "execution_count": 6,
      "outputs": [
        {
          "output_type": "execute_result",
          "data": {
            "text/plain": [
              "['Salary',\n",
              " 'Born',\n",
              " 'City',\n",
              " 'Pr/St',\n",
              " 'Cntry',\n",
              " 'Nat',\n",
              " 'Ht',\n",
              " 'Wt',\n",
              " 'DftYr',\n",
              " 'DftRd',\n",
              " 'Ovrl',\n",
              " 'Hand',\n",
              " 'Last Name',\n",
              " 'First Name',\n",
              " 'Position',\n",
              " 'Team',\n",
              " 'GP',\n",
              " 'G',\n",
              " 'A',\n",
              " 'A1',\n",
              " 'A2',\n",
              " 'PTS',\n",
              " '+/-',\n",
              " 'E+/-',\n",
              " 'PIM',\n",
              " 'Shifts',\n",
              " 'TOI',\n",
              " 'TOIX',\n",
              " 'TOI/GP',\n",
              " 'TOI/GP.1',\n",
              " 'TOI%',\n",
              " 'IPP%',\n",
              " 'SH%',\n",
              " 'SV%',\n",
              " 'PDO',\n",
              " 'F/60',\n",
              " 'A/60',\n",
              " 'Pct%',\n",
              " 'Diff',\n",
              " 'Diff/60',\n",
              " 'iCF',\n",
              " 'iCF.1',\n",
              " 'iFF',\n",
              " 'iSF',\n",
              " 'iSF.1',\n",
              " 'iSF.2',\n",
              " 'ixG',\n",
              " 'iSCF',\n",
              " 'iRB',\n",
              " 'iRS',\n",
              " 'iDS',\n",
              " 'sDist',\n",
              " 'sDist.1',\n",
              " 'Pass',\n",
              " 'iHF',\n",
              " 'iHF.1',\n",
              " 'iHA',\n",
              " 'iHDf',\n",
              " 'iMiss',\n",
              " 'iGVA',\n",
              " 'iTKA',\n",
              " 'iBLK',\n",
              " 'iGVA.1',\n",
              " 'iTKA.1',\n",
              " 'iBLK.1',\n",
              " 'BLK%',\n",
              " 'iFOW',\n",
              " 'iFOL',\n",
              " 'iFOW.1',\n",
              " 'iFOL.1',\n",
              " 'FO%',\n",
              " '%FOT',\n",
              " 'dzFOW',\n",
              " 'dzFOL',\n",
              " 'nzFOW',\n",
              " 'nzFOL',\n",
              " 'ozFOW',\n",
              " 'ozFOL',\n",
              " 'FOW.Up',\n",
              " 'FOL.Up',\n",
              " 'FOW.Down',\n",
              " 'FOL.Down',\n",
              " 'FOW.Close',\n",
              " 'FOL.Close',\n",
              " 'OTG',\n",
              " '1G',\n",
              " 'GWG',\n",
              " 'ENG',\n",
              " 'PSG',\n",
              " 'PSA',\n",
              " 'G.Bkhd',\n",
              " 'G.Dflct',\n",
              " 'G.Slap',\n",
              " 'G.Snap',\n",
              " 'G.Tip',\n",
              " 'G.Wrap',\n",
              " 'G.Wrst',\n",
              " 'CBar ',\n",
              " 'Post',\n",
              " 'Over',\n",
              " 'Wide',\n",
              " 'S.Bkhd',\n",
              " 'S.Dflct',\n",
              " 'S.Slap',\n",
              " 'S.Snap',\n",
              " 'S.Tip',\n",
              " 'S.Wrap',\n",
              " 'S.Wrst',\n",
              " 'iPenT',\n",
              " 'iPenD',\n",
              " 'iPENT',\n",
              " 'iPEND',\n",
              " 'iPenDf',\n",
              " 'NPD',\n",
              " 'Min',\n",
              " 'Maj',\n",
              " 'Match',\n",
              " 'Misc',\n",
              " 'Game',\n",
              " 'CF',\n",
              " 'CA',\n",
              " 'FF',\n",
              " 'FA',\n",
              " 'SF',\n",
              " 'SA',\n",
              " 'xGF',\n",
              " 'xGA',\n",
              " 'SCF',\n",
              " 'SCA',\n",
              " 'GF',\n",
              " 'GA',\n",
              " 'RBF',\n",
              " 'RBA',\n",
              " 'RSF',\n",
              " 'RSA',\n",
              " 'DSF',\n",
              " 'DSA',\n",
              " 'FOW',\n",
              " 'FOL',\n",
              " 'HF',\n",
              " 'HA',\n",
              " 'GVA',\n",
              " 'TKA',\n",
              " 'PENT',\n",
              " 'PEND',\n",
              " 'OPS',\n",
              " 'DPS',\n",
              " 'PS',\n",
              " 'OTOI',\n",
              " 'Grit',\n",
              " 'DAP',\n",
              " 'Pace',\n",
              " 'GS',\n",
              " 'GS/G']"
            ]
          },
          "metadata": {},
          "execution_count": 6
        }
      ]
    },
    {
      "cell_type": "markdown",
      "source": [
        "1. Работаю с пропусками"
      ],
      "metadata": {
        "id": "vth0VkTj_GX7"
      }
    },
    {
      "cell_type": "markdown",
      "source": [
        "Признаков чертовски много, просто так не посмотришь пропущенный значения. Здесь я создала датафрейм missing_val, чтобы посмотреть в каких есть пропущенные значения."
      ],
      "metadata": {
        "id": "z6VV3ShBffi0"
      }
    },
    {
      "cell_type": "code",
      "source": [
        "check_missing_val = pd.DataFrame(salary.isnull().sum(), columns=['count'])\n",
        "missing_val = check_missing_val.query('count != 0')"
      ],
      "metadata": {
        "id": "rNLORshW_a9S"
      },
      "execution_count": 7,
      "outputs": []
    },
    {
      "cell_type": "markdown",
      "source": [
        "Но в датафрейме получилось 63 строки (у 63 признаков пропущенны значения) и просто так вывести весь датафрейм тоже не получится. Поэтому, вытягиваю значения через цикл."
      ],
      "metadata": {
        "id": "9h4-3-o347kT"
      }
    },
    {
      "cell_type": "code",
      "source": [
        "for index, value in missing_val.iterrows():\n",
        "  print(index, value)"
      ],
      "metadata": {
        "id": "IgyS1xbxWlTE",
        "colab": {
          "base_uri": "https://localhost:8080/"
        },
        "outputId": "f3402373-c371-40dc-d8de-2923a80de0c0"
      },
      "execution_count": 8,
      "outputs": [
        {
          "output_type": "stream",
          "name": "stdout",
          "text": [
            "Pr/St count    225\n",
            "Name: Pr/St, dtype: int64\n",
            "DftYr count    125\n",
            "Name: DftYr, dtype: int64\n",
            "DftRd count    125\n",
            "Name: DftRd, dtype: int64\n",
            "Ovrl count    125\n",
            "Name: Ovrl, dtype: int64\n",
            "TOIX count    1\n",
            "Name: TOIX, dtype: int64\n",
            "TOI% count    1\n",
            "Name: TOI%, dtype: int64\n",
            "IPP% count    1\n",
            "Name: IPP%, dtype: int64\n",
            "SH% count    2\n",
            "Name: SH%, dtype: int64\n",
            "SV% count    1\n",
            "Name: SV%, dtype: int64\n",
            "PDO count    2\n",
            "Name: PDO, dtype: int64\n",
            "F/60 count    1\n",
            "Name: F/60, dtype: int64\n",
            "A/60 count    1\n",
            "Name: A/60, dtype: int64\n",
            "Diff/60 count    1\n",
            "Name: Diff/60, dtype: int64\n",
            "iCF count    11\n",
            "Name: iCF, dtype: int64\n",
            "iFF count    11\n",
            "Name: iFF, dtype: int64\n",
            "iSF count    11\n",
            "Name: iSF, dtype: int64\n",
            "ixG count    1\n",
            "Name: ixG, dtype: int64\n",
            "iSCF count    1\n",
            "Name: iSCF, dtype: int64\n",
            "iRB count    11\n",
            "Name: iRB, dtype: int64\n",
            "iRS count    1\n",
            "Name: iRS, dtype: int64\n",
            "iDS count    10\n",
            "Name: iDS, dtype: int64\n",
            "sDist.1 count    25\n",
            "Name: sDist.1, dtype: int64\n",
            "Pass count    1\n",
            "Name: Pass, dtype: int64\n",
            "iHF.1 count    1\n",
            "Name: iHF.1, dtype: int64\n",
            "iHA count    11\n",
            "Name: iHA, dtype: int64\n",
            "iHDf count    10\n",
            "Name: iHDf, dtype: int64\n",
            "iGVA.1 count    1\n",
            "Name: iGVA.1, dtype: int64\n",
            "iTKA.1 count    1\n",
            "Name: iTKA.1, dtype: int64\n",
            "iBLK.1 count    1\n",
            "Name: iBLK.1, dtype: int64\n",
            "BLK% count    1\n",
            "Name: BLK%, dtype: int64\n",
            "iFOW.1 count    1\n",
            "Name: iFOW.1, dtype: int64\n",
            "iFOL.1 count    1\n",
            "Name: iFOL.1, dtype: int64\n",
            "%FOT count    1\n",
            "Name: %FOT, dtype: int64\n",
            "iPENT count    1\n",
            "Name: iPENT, dtype: int64\n",
            "iPEND count    1\n",
            "Name: iPEND, dtype: int64\n",
            "CF count    1\n",
            "Name: CF, dtype: int64\n",
            "CA count    1\n",
            "Name: CA, dtype: int64\n",
            "FF count    1\n",
            "Name: FF, dtype: int64\n",
            "FA count    1\n",
            "Name: FA, dtype: int64\n",
            "SF count    1\n",
            "Name: SF, dtype: int64\n",
            "SA count    1\n",
            "Name: SA, dtype: int64\n",
            "xGF count    1\n",
            "Name: xGF, dtype: int64\n",
            "xGA count    1\n",
            "Name: xGA, dtype: int64\n",
            "SCF count    1\n",
            "Name: SCF, dtype: int64\n",
            "SCA count    1\n",
            "Name: SCA, dtype: int64\n",
            "GF count    1\n",
            "Name: GF, dtype: int64\n",
            "GA count    1\n",
            "Name: GA, dtype: int64\n",
            "RBF count    1\n",
            "Name: RBF, dtype: int64\n",
            "RBA count    1\n",
            "Name: RBA, dtype: int64\n",
            "RSF count    1\n",
            "Name: RSF, dtype: int64\n",
            "RSA count    1\n",
            "Name: RSA, dtype: int64\n",
            "FOW count    1\n",
            "Name: FOW, dtype: int64\n",
            "FOL count    1\n",
            "Name: FOL, dtype: int64\n",
            "HF count    1\n",
            "Name: HF, dtype: int64\n",
            "HA count    1\n",
            "Name: HA, dtype: int64\n",
            "GVA count    1\n",
            "Name: GVA, dtype: int64\n",
            "TKA count    1\n",
            "Name: TKA, dtype: int64\n",
            "PENT count    1\n",
            "Name: PENT, dtype: int64\n",
            "PEND count    1\n",
            "Name: PEND, dtype: int64\n",
            "OTOI count    1\n",
            "Name: OTOI, dtype: int64\n",
            "Pace count    1\n",
            "Name: Pace, dtype: int64\n",
            "GS count    1\n",
            "Name: GS, dtype: int64\n",
            "GS/G count    2\n",
            "Name: GS/G, dtype: int64\n"
          ]
        }
      ]
    },
    {
      "cell_type": "markdown",
      "source": [
        "Разбираемся с первым признаком с пропущенными значениями. Это Pr/St - название штатов и провинций. Я не думаю, что эта информация очень важна, но все равно не хочу удалять. Посмотрим, может в будущем пригодится. Отсутствует 26% значения. Это немного. Значения пропущены только у иностранцев. У канадцев и американцев пропусков нет. Ниже я заполняю пропуски на INT (international)."
      ],
      "metadata": {
        "id": "jnvgXdgG5KId"
      }
    },
    {
      "cell_type": "code",
      "source": [
        "salary = salary.fillna({'Pr/St': 'INT'})"
      ],
      "metadata": {
        "id": "V4y1W-ZUvnOE"
      },
      "execution_count": 9,
      "outputs": []
    },
    {
      "cell_type": "code",
      "source": [
        "salary['Pr/St'].unique() # смотрим какие уникальные значения у нас есть"
      ],
      "metadata": {
        "id": "H_T4JUVIrmFH",
        "colab": {
          "base_uri": "https://localhost:8080/"
        },
        "outputId": "65c2872e-22cc-4187-955e-880e2c0e1d86"
      },
      "execution_count": 10,
      "outputs": [
        {
          "output_type": "execute_result",
          "data": {
            "text/plain": [
              "array(['QC', 'ON', 'MN', 'INT', 'MB', 'AB', 'BC', 'SK', 'CO', 'NH', 'MI',\n",
              "       'AL', 'NY', 'CT', 'NJ', 'WI', 'FL', 'PA', 'CA', 'MA', 'IL', 'AK',\n",
              "       'AZ', 'MO', 'PE', 'RI', 'NS', 'ND', 'TX', 'NE', 'WA', 'OH', 'UT',\n",
              "       'NC', 'IN', 'OK', 'ME', 'NL', 'SC'], dtype=object)"
            ]
          },
          "metadata": {},
          "execution_count": 10
        }
      ]
    },
    {
      "cell_type": "markdown",
      "source": [
        "Попробую сделать признак числовым, чтобы дальше с ним можно было работать. Легенда:\n",
        "QC-1, ON-2, MN-3, INT-4, MB-5, AB-6, BC-7, SK-8, CO-9, NH-10, MI-11, AL-12, NY-13, CT-14, NJ-15, WI-16, FL-17, PA-18, CA-19, MA-20, IL-21, AK-22, AZ-23, MO-24, PE-25, RI-26, NS-27, ND-28, TX-29, NE-30, WA-31, OH-32, UT-33, NC-34, IN-35, OK-36, ME-37, NL-38, SC-39."
      ],
      "metadata": {
        "id": "N-gIJx_k3CPm"
      }
    },
    {
      "cell_type": "markdown",
      "source": [
        "Но мне сыкотно, поэтому я создам копию датафрейма, чтобы не зафакапить все. Дальше буду работать с датафреймом slry"
      ],
      "metadata": {
        "id": "qdSMMkf-6nMn"
      }
    },
    {
      "cell_type": "code",
      "source": [
        "slry = salary.copy()\n",
        "id(salary) # проверяем, что объекты разные и хранятся в разных блоках памяти\n",
        "id(slry)"
      ],
      "metadata": {
        "id": "kCht-GRF6Oh_",
        "colab": {
          "base_uri": "https://localhost:8080/"
        },
        "outputId": "1d75d573-f775-43bb-ff15-356993731045"
      },
      "execution_count": 11,
      "outputs": [
        {
          "output_type": "execute_result",
          "data": {
            "text/plain": [
              "139774767740336"
            ]
          },
          "metadata": {},
          "execution_count": 11
        }
      ]
    },
    {
      "cell_type": "markdown",
      "source": [
        "Поняла, что есть потенциальная проблема. Если я закодирую по легенде выше, то, если буду использовать признак для обучения, модель будет назначать больший вес тем значениям, цифра которых выше. Хотя, в данном датасете, эти цифры не несут под собой никакого смысла."
      ],
      "metadata": {
        "id": "eGNGsLkTegOH"
      }
    },
    {
      "cell_type": "markdown",
      "source": [
        "Тогда можно было бы воспользоваться унитарным кодирование, но тогда +39 столбцов к датасету."
      ],
      "metadata": {
        "id": "nvgnuRJae5Ky"
      }
    },
    {
      "cell_type": "code",
      "source": [
        "cleanup_prst = {'Pr/St': {'QC':1, 'ON':2, 'MN':3, 'INT':4, 'MB':5, 'AB':6, 'BC':7, 'SK':8, 'CO':9, 'NH':10, 'MI':11, 'AL':12, 'NY':13, 'CT':14, 'NJ':15, 'WI':16, 'FL':17, 'PA':18, 'CA':19, 'MA':20, 'IL':21, 'AK':22, 'AZ':23, 'MO':24, 'PE':25, 'RI':26, 'NS':27, 'ND':28, 'TX':29, 'NE':30, 'WA':31, 'OH':32, 'UT':33, 'NC':34, 'IN':35, 'OK':36, 'ME':37, 'NL':38, 'SC':39.}}"
      ],
      "metadata": {
        "id": "H4hHO5yjfSeG"
      },
      "execution_count": 12,
      "outputs": []
    },
    {
      "cell_type": "code",
      "source": [
        "slry = slry.replace(cleanup_prst)"
      ],
      "metadata": {
        "id": "PWwDkkKXhIgZ"
      },
      "execution_count": 13,
      "outputs": []
    },
    {
      "cell_type": "code",
      "source": [
        "slry['Pr/St'].unique() # проверяем, что код сработал"
      ],
      "metadata": {
        "id": "Do1971yUhQps",
        "colab": {
          "base_uri": "https://localhost:8080/"
        },
        "outputId": "5fea84d9-a167-4a1c-fc69-793f43b9d3b3"
      },
      "execution_count": 14,
      "outputs": [
        {
          "output_type": "execute_result",
          "data": {
            "text/plain": [
              "array([ 1.,  2.,  3.,  4.,  5.,  6.,  7.,  8.,  9., 10., 11., 12., 13.,\n",
              "       14., 15., 16., 17., 18., 19., 20., 21., 22., 23., 24., 25., 26.,\n",
              "       27., 28., 29., 30., 31., 32., 33., 34., 35., 36., 37., 38., 39.])"
            ]
          },
          "metadata": {},
          "execution_count": 14
        }
      ]
    },
    {
      "cell_type": "code",
      "source": [
        "salary['Pr/St'].unique() # проверяем, что переменная в первоначальном датасете осталась нетронута"
      ],
      "metadata": {
        "id": "O3YGx4jAhoyB",
        "colab": {
          "base_uri": "https://localhost:8080/"
        },
        "outputId": "f05da2aa-d0ee-4d89-d181-097b58d77f90"
      },
      "execution_count": 15,
      "outputs": [
        {
          "output_type": "execute_result",
          "data": {
            "text/plain": [
              "array(['QC', 'ON', 'MN', 'INT', 'MB', 'AB', 'BC', 'SK', 'CO', 'NH', 'MI',\n",
              "       'AL', 'NY', 'CT', 'NJ', 'WI', 'FL', 'PA', 'CA', 'MA', 'IL', 'AK',\n",
              "       'AZ', 'MO', 'PE', 'RI', 'NS', 'ND', 'TX', 'NE', 'WA', 'OH', 'UT',\n",
              "       'NC', 'IN', 'OK', 'ME', 'NL', 'SC'], dtype=object)"
            ]
          },
          "metadata": {},
          "execution_count": 15
        }
      ]
    },
    {
      "cell_type": "code",
      "source": [
        "slry['Pr/St'].isnull().sum() # проверяем, что пропущенных значений в признаке больше нет"
      ],
      "metadata": {
        "id": "wnQ7BpsZvNpk",
        "colab": {
          "base_uri": "https://localhost:8080/"
        },
        "outputId": "f7a89e84-cb45-4936-8c25-e591c4aafc8e"
      },
      "execution_count": 16,
      "outputs": [
        {
          "output_type": "execute_result",
          "data": {
            "text/plain": [
              "0"
            ]
          },
          "metadata": {},
          "execution_count": 16
        }
      ]
    },
    {
      "cell_type": "code",
      "source": [
        "# а еще мне не нравится название признака. Переименую его\n",
        "slry = slry.rename(columns = {'Pr/St': 'prst'})"
      ],
      "metadata": {
        "id": "KlRtuAJc9WmJ"
      },
      "execution_count": 17,
      "outputs": []
    },
    {
      "cell_type": "code",
      "source": [
        "slry.prst.hist() # жопой жуй людей из квебека!"
      ],
      "metadata": {
        "id": "td_4Hx0SwLSm",
        "colab": {
          "base_uri": "https://localhost:8080/",
          "height": 447
        },
        "outputId": "880494f1-5d40-4f5e-d15c-ef27195ac4e9"
      },
      "execution_count": 18,
      "outputs": [
        {
          "output_type": "execute_result",
          "data": {
            "text/plain": [
              "<Axes: >"
            ]
          },
          "metadata": {},
          "execution_count": 18
        },
        {
          "output_type": "display_data",
          "data": {
            "text/plain": [
              "<Figure size 640x480 with 1 Axes>"
            ],
            "image/png": "[encoded data removed]"
          },
          "metadata": {}
        }
      ]
    },
    {
      "cell_type": "markdown",
      "source": [
        "2. Работаем с категориальными переменными"
      ],
      "metadata": {
        "id": "cbGz_u6l--5i"
      }
    },
    {
      "cell_type": "code",
      "source": [
        "# Посмотрим какие признаки категориальные\n",
        "obj_slry = slry.select_dtypes(include=['object']).copy()\n",
        "obj_slry # 9 категориальных признака"
      ],
      "metadata": {
        "id": "SgUoaS_qwuZL",
        "colab": {
          "base_uri": "https://localhost:8080/",
          "height": 423
        },
        "outputId": "583abe44-fef5-4fb9-dda8-d132476903d9"
      },
      "execution_count": 19,
      "outputs": [
        {
          "output_type": "execute_result",
          "data": {
            "text/plain": [
              "         Born              City Cntry  Nat Hand   Last Name First Name  \\\n",
              "0    97-01-30      Sainte-Marie   CAN  CAN    L      Chabot     Thomas   \n",
              "1    93-12-21            Ottawa   CAN  CAN    R        Ceci       Cody   \n",
              "2    88-04-16          St. Paul   USA  USA    R      Okposo       Kyle   \n",
              "3    92-01-07            Ottawa   CAN  CAN    R  Gudbranson       Erik   \n",
              "4    94-03-29           Toronto   CAN  CAN    R      Wilson        Tom   \n",
              "..        ...               ...   ...  ...  ...         ...        ...   \n",
              "257  97-03-11          Kingston   CAN  CAN    L  Harrington      Scott   \n",
              "258  95-01-30            Denver   USA  USA    R       Shore       Drew   \n",
              "259  97-06-18           Toronto   CAN  CAN    R    Hamilton     Dougie   \n",
              "260  98-09-21  Hilton Head Isl.   USA  USA    R     Hartman       Ryan   \n",
              "261  91-03-18       Cherry Hill   USA  USA    R        Ryan      Bobby   \n",
              "\n",
              "    Position Team  \n",
              "0          D  OTT  \n",
              "1          D  OTT  \n",
              "2         RW  BUF  \n",
              "3          D  VAN  \n",
              "4         RW  WSH  \n",
              "..       ...  ...  \n",
              "257        D  CBJ  \n",
              "258        C  VAN  \n",
              "259        D  CGY  \n",
              "260    LW/RW  CHI  \n",
              "261    RW/LW  OTT  \n",
              "\n",
              "[874 rows x 9 columns]"
            ],
            "text/html": [
              "\n",
              "\n",
              "  <div id=\"df-c65e6dad-3e83-4e4a-b281-b3d3a07d3a92\">\n",
              "    <div class=\"colab-df-container\">\n",
              "      <div>\n",
              "<style scoped>\n",
              "    .dataframe tbody tr th:only-of-type {\n",
              "        vertical-align: middle;\n",
              "    }\n",
              "\n",
              "    .dataframe tbody tr th {\n",
              "        vertical-align: top;\n",
              "    }\n",
              "\n",
              "    .dataframe thead th {\n",
              "        text-align: right;\n",
              "    }\n",
              "</style>\n",
              "<table border=\"1\" class=\"dataframe\">\n",
              "  <thead>\n",
              "    <tr style=\"text-align: right;\">\n",
              "      <th></th>\n",
              "      <th>Born</th>\n",
              "      <th>City</th>\n",
              "      <th>Cntry</th>\n",
              "      <th>Nat</th>\n",
              "      <th>Hand</th>\n",
              "      <th>Last Name</th>\n",
              "      <th>First Name</th>\n",
              "      <th>Position</th>\n",
              "      <th>Team</th>\n",
              "    </tr>\n",
              "  </thead>\n",
              "  <tbody>\n",
              "    <tr>\n",
              "      <th>0</th>\n",
              "      <td>97-01-30</td>\n",
              "      <td>Sainte-Marie</td>\n",
              "      <td>CAN</td>\n",
              "      <td>CAN</td>\n",
              "      <td>L</td>\n",
              "      <td>Chabot</td>\n",
              "      <td>Thomas</td>\n",
              "      <td>D</td>\n",
              "      <td>OTT</td>\n",
              "    </tr>\n",
              "    <tr>\n",
              "      <th>1</th>\n",
              "      <td>93-12-21</td>\n",
              "      <td>Ottawa</td>\n",
              "      <td>CAN</td>\n",
              "      <td>CAN</td>\n",
              "      <td>R</td>\n",
              "      <td>Ceci</td>\n",
              "      <td>Cody</td>\n",
              "      <td>D</td>\n",
              "      <td>OTT</td>\n",
              "    </tr>\n",
              "    <tr>\n",
              "      <th>2</th>\n",
              "      <td>88-04-16</td>\n",
              "      <td>St. Paul</td>\n",
              "      <td>USA</td>\n",
              "      <td>USA</td>\n",
              "      <td>R</td>\n",
              "      <td>Okposo</td>\n",
              "      <td>Kyle</td>\n",
              "      <td>RW</td>\n",
              "      <td>BUF</td>\n",
              "    </tr>\n",
              "    <tr>\n",
              "      <th>3</th>\n",
              "      <td>92-01-07</td>\n",
              "      <td>Ottawa</td>\n",
              "      <td>CAN</td>\n",
              "      <td>CAN</td>\n",
              "      <td>R</td>\n",
              "      <td>Gudbranson</td>\n",
              "      <td>Erik</td>\n",
              "      <td>D</td>\n",
              "      <td>VAN</td>\n",
              "    </tr>\n",
              "    <tr>\n",
              "      <th>4</th>\n",
              "      <td>94-03-29</td>\n",
              "      <td>Toronto</td>\n",
              "      <td>CAN</td>\n",
              "      <td>CAN</td>\n",
              "      <td>R</td>\n",
              "      <td>Wilson</td>\n",
              "      <td>Tom</td>\n",
              "      <td>RW</td>\n",
              "      <td>WSH</td>\n",
              "    </tr>\n",
              "    <tr>\n",
              "      <th>...</th>\n",
              "      <td>...</td>\n",
              "      <td>...</td>\n",
              "      <td>...</td>\n",
              "      <td>...</td>\n",
              "      <td>...</td>\n",
              "      <td>...</td>\n",
              "      <td>...</td>\n",
              "      <td>...</td>\n",
              "      <td>...</td>\n",
              "    </tr>\n",
              "    <tr>\n",
              "      <th>257</th>\n",
              "      <td>97-03-11</td>\n",
              "      <td>Kingston</td>\n",
              "      <td>CAN</td>\n",
              "      <td>CAN</td>\n",
              "      <td>L</td>\n",
              "      <td>Harrington</td>\n",
              "      <td>Scott</td>\n",
              "      <td>D</td>\n",
              "      <td>CBJ</td>\n",
              "    </tr>\n",
              "    <tr>\n",
              "      <th>258</th>\n",
              "      <td>95-01-30</td>\n",
              "      <td>Denver</td>\n",
              "      <td>USA</td>\n",
              "      <td>USA</td>\n",
              "      <td>R</td>\n",
              "      <td>Shore</td>\n",
              "      <td>Drew</td>\n",
              "      <td>C</td>\n",
              "      <td>VAN</td>\n",
              "    </tr>\n",
              "    <tr>\n",
              "      <th>259</th>\n",
              "      <td>97-06-18</td>\n",
              "      <td>Toronto</td>\n",
              "      <td>CAN</td>\n",
              "      <td>CAN</td>\n",
              "      <td>R</td>\n",
              "      <td>Hamilton</td>\n",
              "      <td>Dougie</td>\n",
              "      <td>D</td>\n",
              "      <td>CGY</td>\n",
              "    </tr>\n",
              "    <tr>\n",
              "      <th>260</th>\n",
              "      <td>98-09-21</td>\n",
              "      <td>Hilton Head Isl.</td>\n",
              "      <td>USA</td>\n",
              "      <td>USA</td>\n",
              "      <td>R</td>\n",
              "      <td>Hartman</td>\n",
              "      <td>Ryan</td>\n",
              "      <td>LW/RW</td>\n",
              "      <td>CHI</td>\n",
              "    </tr>\n",
              "    <tr>\n",
              "      <th>261</th>\n",
              "      <td>91-03-18</td>\n",
              "      <td>Cherry Hill</td>\n",
              "      <td>USA</td>\n",
              "      <td>USA</td>\n",
              "      <td>R</td>\n",
              "      <td>Ryan</td>\n",
              "      <td>Bobby</td>\n",
              "      <td>RW/LW</td>\n",
              "      <td>OTT</td>\n",
              "    </tr>\n",
              "  </tbody>\n",
              "</table>\n",
              "<p>874 rows × 9 columns</p>\n",
              "</div>\n",
              "      <button class=\"colab-df-convert\" onclick=\"convertToInteractive('df-c65e6dad-3e83-4e4a-b281-b3d3a07d3a92')\"\n",
              "              title=\"Convert this dataframe to an interactive table.\"\n",
              "              style=\"display:none;\">\n",
              "\n",
              "  <svg xmlns=\"http://www.w3.org/2000/svg\" height=\"24px\"viewBox=\"0 0 24 24\"\n",
              "       width=\"24px\">\n",
              "    <path d=\"M0 0h24v24H0V0z\" fill=\"none\"/>\n",
              "    <path d=\"M18.56 5.44l.94 2.06.94-2.06 2.06-.94-2.06-.94-.94-2.06-.94 2.06-2.06.94zm-11 1L8.5 8.5l.94-2.06 2.06-.94-2.06-.94L8.5 2.5l-.94 2.06-2.06.94zm10 10l.94 2.06.94-2.06 2.06-.94-2.06-.94-.94-2.06-.94 2.06-2.06.94z\"/><path d=\"M17.41 7.96l-1.37-1.37c-.4-.4-.92-.59-1.43-.59-.52 0-1.04.2-1.43.59L10.3 9.45l-7.72 7.72c-.78.78-.78 2.05 0 2.83L4 21.41c.39.39.9.59 1.41.59.51 0 1.02-.2 1.41-.59l7.78-7.78 2.81-2.81c.8-.78.8-2.07 0-2.86zM5.41 20L4 18.59l7.72-7.72 1.47 1.35L5.41 20z\"/>\n",
              "  </svg>\n",
              "      </button>\n",
              "\n",
              "\n",
              "\n",
              "    <div id=\"df-c556fc25-2d87-4e22-8c22-98ab45193ec8\">\n",
              "      <button class=\"colab-df-quickchart\" onclick=\"quickchart('df-c556fc25-2d87-4e22-8c22-98ab45193ec8')\"\n",
              "              title=\"Suggest charts.\"\n",
              "              style=\"display:none;\">\n",
              "\n",
              "<svg xmlns=\"http://www.w3.org/2000/svg\" height=\"24px\"viewBox=\"0 0 24 24\"\n",
              "     width=\"24px\">\n",
              "    <g>\n",
              "        <path d=\"M19 3H5c-1.1 0-2 .9-2 2v14c0 1.1.9 2 2 2h14c1.1 0 2-.9 2-2V5c0-1.1-.9-2-2-2zM9 17H7v-7h2v7zm4 0h-2V7h2v10zm4 0h-2v-4h2v4z\"/>\n",
              "    </g>\n",
              "</svg>\n",
              "      </button>\n",
              "    </div>\n",
              "\n",
              "<style>\n",
              "  .colab-df-quickchart {\n",
              "    background-color: #E8F0FE;\n",
              "    border: none;\n",
              "    border-radius: 50%;\n",
              "    cursor: pointer;\n",
              "    display: none;\n",
              "    fill: #1967D2;\n",
              "    height: 32px;\n",
              "    padding: 0 0 0 0;\n",
              "    width: 32px;\n",
              "  }\n",
              "\n",
              "  .colab-df-quickchart:hover {\n",
              "    background-color: #E2EBFA;\n",
              "    box-shadow: 0px 1px 2px rgba(60, 64, 67, 0.3), 0px 1px 3px 1px rgba(60, 64, 67, 0.15);\n",
              "    fill: #174EA6;\n",
              "  }\n",
              "\n",
              "  [theme=dark] .colab-df-quickchart {\n",
              "    background-color: #3B4455;\n",
              "    fill: #D2E3FC;\n",
              "  }\n",
              "\n",
              "  [theme=dark] .colab-df-quickchart:hover {\n",
              "    background-color: #434B5C;\n",
              "    box-shadow: 0px 1px 3px 1px rgba(0, 0, 0, 0.15);\n",
              "    filter: drop-shadow(0px 1px 2px rgba(0, 0, 0, 0.3));\n",
              "    fill: #FFFFFF;\n",
              "  }\n",
              "</style>\n",
              "\n",
              "    <script>\n",
              "      async function quickchart(key) {\n",
              "        const containerElement = document.querySelector('#' + key);\n",
              "        const charts = await google.colab.kernel.invokeFunction(\n",
              "            'suggestCharts', [key], {});\n",
              "      }\n",
              "    </script>\n",
              "\n",
              "      <script>\n",
              "\n",
              "function displayQuickchartButton(domScope) {\n",
              "  let quickchartButtonEl =\n",
              "    domScope.querySelector('#df-c556fc25-2d87-4e22-8c22-98ab45193ec8 button.colab-df-quickchart');\n",
              "  quickchartButtonEl.style.display =\n",
              "    google.colab.kernel.accessAllowed ? 'block' : 'none';\n",
              "}\n",
              "\n",
              "        displayQuickchartButton(document);\n",
              "      </script>\n",
              "      <style>\n",
              "    .colab-df-container {\n",
              "      display:flex;\n",
              "      flex-wrap:wrap;\n",
              "      gap: 12px;\n",
              "    }\n",
              "\n",
              "    .colab-df-convert {\n",
              "      background-color: #E8F0FE;\n",
              "      border: none;\n",
              "      border-radius: 50%;\n",
              "      cursor: pointer;\n",
              "      display: none;\n",
              "      fill: #1967D2;\n",
              "      height: 32px;\n",
              "      padding: 0 0 0 0;\n",
              "      width: 32px;\n",
              "    }\n",
              "\n",
              "    .colab-df-convert:hover {\n",
              "      background-color: #E2EBFA;\n",
              "      box-shadow: 0px 1px 2px rgba(60, 64, 67, 0.3), 0px 1px 3px 1px rgba(60, 64, 67, 0.15);\n",
              "      fill: #174EA6;\n",
              "    }\n",
              "\n",
              "    [theme=dark] .colab-df-convert {\n",
              "      background-color: #3B4455;\n",
              "      fill: #D2E3FC;\n",
              "    }\n",
              "\n",
              "    [theme=dark] .colab-df-convert:hover {\n",
              "      background-color: #434B5C;\n",
              "      box-shadow: 0px 1px 3px 1px rgba(0, 0, 0, 0.15);\n",
              "      filter: drop-shadow(0px 1px 2px rgba(0, 0, 0, 0.3));\n",
              "      fill: #FFFFFF;\n",
              "    }\n",
              "  </style>\n",
              "\n",
              "      <script>\n",
              "        const buttonEl =\n",
              "          document.querySelector('#df-c65e6dad-3e83-4e4a-b281-b3d3a07d3a92 button.colab-df-convert');\n",
              "        buttonEl.style.display =\n",
              "          google.colab.kernel.accessAllowed ? 'block' : 'none';\n",
              "\n",
              "        async function convertToInteractive(key) {\n",
              "          const element = document.querySelector('#df-c65e6dad-3e83-4e4a-b281-b3d3a07d3a92');\n",
              "          const dataTable =\n",
              "            await google.colab.kernel.invokeFunction('convertToInteractive',\n",
              "                                                     [key], {});\n",
              "          if (!dataTable) return;\n",
              "\n",
              "          const docLinkHtml = 'Like what you see? Visit the ' +\n",
              "            '<a target=\"_blank\" href=https://colab.research.google.com/notebooks/data_table.ipynb>data table notebook</a>'\n",
              "            + ' to learn more about interactive tables.';\n",
              "          element.innerHTML = '';\n",
              "          dataTable['output_type'] = 'display_data';\n",
              "          await google.colab.output.renderOutput(dataTable, element);\n",
              "          const docLink = document.createElement('div');\n",
              "          docLink.innerHTML = docLinkHtml;\n",
              "          element.appendChild(docLink);\n",
              "        }\n",
              "      </script>\n",
              "    </div>\n",
              "  </div>\n"
            ]
          },
          "metadata": {},
          "execution_count": 19
        }
      ]
    },
    {
      "cell_type": "markdown",
      "source": [
        "Выяснила, что есть полностью дублирующие признаки. Для достоверности проверила их критерием Пирсона. Пришла к выводу, что буду удалять: iGVA.1, iTKA.1, iBLK.1, iFOW.1, iFOL.1, iHF.1,"
      ],
      "metadata": {
        "id": "5KA7oEsyf5zY"
      }
    },
    {
      "cell_type": "code",
      "source": [
        "salary['iGVA.1'].fillna(0, inplace=True)\n",
        "salary = salary.astype({'iGVA.1': np.int})\n",
        "pearsonr(salary['iGVA.1'], salary['iGVA']) # ого! корреляция практически 100%!"
      ],
      "metadata": {
        "id": "tFx3-Jrw8WeU",
        "colab": {
          "base_uri": "https://localhost:8080/"
        },
        "outputId": "3e5e9ece-0f4a-49e7-8529-4b13df479e45"
      },
      "execution_count": 20,
      "outputs": [
        {
          "output_type": "stream",
          "name": "stderr",
          "text": [
            "<ipython-input-20-0454ea54f1e4>:2: DeprecationWarning: `np.int` is a deprecated alias for the builtin `int`. To silence this warning, use `int` by itself. Doing this will not modify any behavior and is safe. When replacing `np.int`, you may wish to use e.g. `np.int64` or `np.int32` to specify the precision. If you wish to review your current use, check the release note link for additional information.\n",
            "Deprecated in NumPy 1.20; for more details and guidance: https://numpy.org/devdocs/release/1.20.0-notes.html#deprecations\n",
            "  salary = salary.astype({'iGVA.1': np.int})\n"
          ]
        },
        {
          "output_type": "execute_result",
          "data": {
            "text/plain": [
              "PearsonRResult(statistic=0.9999069803206938, pvalue=0.0)"
            ]
          },
          "metadata": {},
          "execution_count": 20
        }
      ]
    },
    {
      "cell_type": "code",
      "source": [],
      "metadata": {
        "id": "rBfCi6jfbN0-"
      },
      "execution_count": 20,
      "outputs": []
    }
  ]
}